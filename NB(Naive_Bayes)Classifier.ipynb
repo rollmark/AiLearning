{
  "nbformat": 4,
  "nbformat_minor": 0,
  "metadata": {
    "colab": {
      "name": "NB(Naive Bayes)Classifier.ipynb",
      "provenance": [],
      "authorship_tag": "ABX9TyNmVOLOTxzT6oW020YaEy1N",
      "include_colab_link": true
    },
    "kernelspec": {
      "name": "python3",
      "display_name": "Python 3"
    },
    "language_info": {
      "name": "python"
    }
  },
  "cells": [
    {
      "cell_type": "markdown",
      "metadata": {
        "id": "view-in-github",
        "colab_type": "text"
      },
      "source": [
        "<a href=\"https://colab.research.google.com/github/rollmark/AiLearning/blob/master/NB(Naive_Bayes)Classifier.ipynb\" target=\"_parent\"><img src=\"https://colab.research.google.com/assets/colab-badge.svg\" alt=\"Open In Colab\"/></a>"
      ]
    },
    {
      "cell_type": "code",
      "execution_count": null,
      "metadata": {
        "id": "rx8ypO49k884"
      },
      "outputs": [],
      "source": []
    },
    {
      "cell_type": "markdown",
      "source": [
        "# Navie Bayes:朴素贝叶斯分类器 [朴素贝叶斯](https://zh.wikipedia.org/wiki/%E6%9C%B4%E7%B4%A0%E8%B4%9D%E5%8F%B6%E6%96%AF%E5%88%86%E7%B1%BB%E5%99%A8#:~:text=%E6%9C%B4%E7%B4%A0%E8%B4%9D%E5%8F%B6%E6%96%AF%E5%88%86%E7%B1%BB%E5%99%A8%EF%BC%88%E8%8B%B1%E8%AA%9E%EF%BC%9ANaive%20Bayes%20classifier,50%E5%B9%B4%E4%BB%A3%E5%B7%B2%E5%B9%BF%E6%B3%9B%E7%A0%94%E7%A9%B6%E3%80%82)\n",
        "###  所有朴素贝叶斯分类器都假定样本每个特征与其他特征都不相关\n"
      ],
      "metadata": {
        "id": "iA5WLdbuoe48"
      }
    },
    {
      "cell_type": "markdown",
      "source": [
        "# Navie Bayes classifier by sklearn:  [sklean naive bayes] (https://scikit-learn.org/stable/modules/naive_bayes.html)"
      ],
      "metadata": {
        "id": "wump1cEGpWI7"
      }
    },
    {
      "cell_type": "code",
      "source": [
        "from sklearn.datasets import load_iris\n",
        "from sklearn.model_selection import train_test_split\n",
        "from sklearn.naive_bayes import GaussianNB\n",
        "X, y = load_iris(return_X_y=True)\n",
        "X_train, X_test, y_train, y_test = train_test_split(X, y, test_size=0.5, random_state=0)\n",
        "gnb = GaussianNB()\n",
        "y_pred = gnb.fit(X_train, y_train).predict(X_test)\n",
        "print(\"Number of mislabeled points out of a total %d points : %d\"% (X_test.shape[0], (y_test != y_pred).sum()))"
      ],
      "metadata": {
        "colab": {
          "base_uri": "https://localhost:8080/"
        },
        "id": "siG_r6MFpTmG",
        "outputId": "7f172899-840f-4b49-c0b3-8d713512e39a"
      },
      "execution_count": 6,
      "outputs": [
        {
          "output_type": "stream",
          "name": "stdout",
          "text": [
            "Number of mislabeled points out of a total 75 points : 4\n"
          ]
        }
      ]
    },
    {
      "cell_type": "code",
      "source": [
        "from sklearn.metrics import accuracy_score\n",
        "accuracy_score(y_test, y_pred)"
      ],
      "metadata": {
        "colab": {
          "base_uri": "https://localhost:8080/"
        },
        "id": "v_qHxE4HqDI9",
        "outputId": "4936fc17-db3f-4697-d341-d1d2430a5de7"
      },
      "execution_count": 2,
      "outputs": [
        {
          "output_type": "execute_result",
          "data": {
            "text/plain": [
              "0.9466666666666667"
            ]
          },
          "metadata": {},
          "execution_count": 2
        }
      ]
    },
    {
      "cell_type": "code",
      "source": [
        "71/75.0"
      ],
      "metadata": {
        "colab": {
          "base_uri": "https://localhost:8080/"
        },
        "id": "o2o7mChdqVb-",
        "outputId": "a6384935-974e-49e0-bd68-2cde021a902b"
      },
      "execution_count": 4,
      "outputs": [
        {
          "output_type": "execute_result",
          "data": {
            "text/plain": [
              "0.9466666666666667"
            ]
          },
          "metadata": {},
          "execution_count": 4
        }
      ]
    },
    {
      "cell_type": "code",
      "source": [
        "gnb.score(X_test,y_test)"
      ],
      "metadata": {
        "colab": {
          "base_uri": "https://localhost:8080/"
        },
        "id": "AYGcbZKgqXbe",
        "outputId": "12ebc396-5dc6-41e0-d5c7-f88d98098309"
      },
      "execution_count": 5,
      "outputs": [
        {
          "output_type": "execute_result",
          "data": {
            "text/plain": [
              "0.9466666666666667"
            ]
          },
          "metadata": {},
          "execution_count": 5
        }
      ]
    },
    {
      "cell_type": "code",
      "source": [],
      "metadata": {
        "id": "IY7P0BVGqnBt"
      },
      "execution_count": null,
      "outputs": []
    }
  ]
}