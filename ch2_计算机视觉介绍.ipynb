{
  "nbformat": 4,
  "nbformat_minor": 0,
  "metadata": {
    "colab": {
      "name": "ch2-计算机视觉介绍.ipynb",
      "provenance": [],
      "authorship_tag": "ABX9TyMwXXjx5TxESBKjbfK5rJyb",
      "include_colab_link": true
    },
    "kernelspec": {
      "name": "python3",
      "display_name": "Python 3"
    },
    "language_info": {
      "name": "python"
    },
    "accelerator": "GPU",
    "gpuClass": "standard"
  },
  "cells": [
    {
      "cell_type": "markdown",
      "metadata": {
        "id": "view-in-github",
        "colab_type": "text"
      },
      "source": [
        "<a href=\"https://colab.research.google.com/github/rollmark/AiLearning/blob/master/ch2_%E8%AE%A1%E7%AE%97%E6%9C%BA%E8%A7%86%E8%A7%89%E4%BB%8B%E7%BB%8D.ipynb\" target=\"_parent\"><img src=\"https://colab.research.google.com/assets/colab-badge.svg\" alt=\"Open In Colab\"/></a>"
      ]
    },
    {
      "cell_type": "code",
      "execution_count": 7,
      "metadata": {
        "id": "tvaAq2hULSZ2"
      },
      "outputs": [],
      "source": [
        "from tensorflow import keras\n",
        "import tensorflow as tf\n",
        "import pandas as pd\n",
        "import matplotlib.pyplot as plt"
      ]
    },
    {
      "cell_type": "markdown",
      "source": [
        "## 1.使用Flatten打平数据，最简单模型\n",
        "## 2.对图像数据、255.0，normalization，对比训练时间和训练效果\n",
        "## 3.添加更多的units\n",
        "## 4.添加更多的layers\n",
        "\n",
        "## 5.使用callback"
      ],
      "metadata": {
        "id": "49LrnNySYW_V"
      }
    },
    {
      "cell_type": "code",
      "source": [
        "fashion_dataset = keras.datasets.fashion_mnist\n",
        "(train_images, train_labels),(test_images, test_labels) = fashion_dataset.load_data()"
      ],
      "metadata": {
        "id": "2GHYp2HPLZOh"
      },
      "execution_count": 8,
      "outputs": []
    },
    {
      "cell_type": "code",
      "source": [
        "len(train_images),len(test_images)"
      ],
      "metadata": {
        "colab": {
          "base_uri": "https://localhost:8080/"
        },
        "id": "HkngF-eKLozX",
        "outputId": "6e01254c-9a89-4289-c8c7-a3e131da0de7"
      },
      "execution_count": 3,
      "outputs": [
        {
          "output_type": "execute_result",
          "data": {
            "text/plain": [
              "(60000, 10000)"
            ]
          },
          "metadata": {},
          "execution_count": 3
        }
      ]
    },
    {
      "cell_type": "code",
      "source": [
        "train_images.shape"
      ],
      "metadata": {
        "colab": {
          "base_uri": "https://localhost:8080/"
        },
        "id": "tQyoRzr3LsoI",
        "outputId": "eeea2668-1c09-499b-e590-a76c3ead9112"
      },
      "execution_count": 4,
      "outputs": [
        {
          "output_type": "execute_result",
          "data": {
            "text/plain": [
              "(60000, 28, 28)"
            ]
          },
          "metadata": {},
          "execution_count": 4
        }
      ]
    },
    {
      "cell_type": "code",
      "source": [
        "train_labels.shape"
      ],
      "metadata": {
        "colab": {
          "base_uri": "https://localhost:8080/"
        },
        "id": "kcbvtt0mLwKY",
        "outputId": "1e212fb4-e089-41b0-9f0b-d8e609750fe5"
      },
      "execution_count": 5,
      "outputs": [
        {
          "output_type": "execute_result",
          "data": {
            "text/plain": [
              "(60000,)"
            ]
          },
          "metadata": {},
          "execution_count": 5
        }
      ]
    },
    {
      "cell_type": "code",
      "source": [
        "train_labels[0]"
      ],
      "metadata": {
        "colab": {
          "base_uri": "https://localhost:8080/"
        },
        "id": "4q12ucdDLybH",
        "outputId": "36291643-df7c-44e6-a590-e58c9618050e"
      },
      "execution_count": 6,
      "outputs": [
        {
          "output_type": "execute_result",
          "data": {
            "text/plain": [
              "9"
            ]
          },
          "metadata": {},
          "execution_count": 6
        }
      ]
    },
    {
      "cell_type": "code",
      "source": [
        "### show image\n"
      ],
      "metadata": {
        "id": "WMfCU6yqLzvH"
      },
      "execution_count": 7,
      "outputs": []
    },
    {
      "cell_type": "code",
      "source": [
        "plt.imshow(train_images[0])"
      ],
      "metadata": {
        "colab": {
          "base_uri": "https://localhost:8080/",
          "height": 283
        },
        "id": "HzCiDC1RMPWX",
        "outputId": "c91cc111-c2de-431f-d739-3ca9f13dbb7d"
      },
      "execution_count": 7,
      "outputs": [
        {
          "output_type": "execute_result",
          "data": {
            "text/plain": [
              "<matplotlib.image.AxesImage at 0x7f4376cc29d0>"
            ]
          },
          "metadata": {},
          "execution_count": 7
        },
        {
          "output_type": "display_data",
          "data": {
            "text/plain": [
              "<Figure size 432x288 with 1 Axes>"
            ],
            "image/png": "[encoded data removed]"
          },
          "metadata": {
            "needs_background": "light"
          }
        }
      ]
    },
    {
      "cell_type": "code",
      "source": [
        "### 最简单模型\n",
        "\n",
        "\n",
        "model_1 = keras.Sequential([\n",
        "  keras.layers.Flatten(input_shape=(28,28)),\n",
        "  keras.layers.Dense(units=128, activation='relu'),\n",
        "  keras.layers.Dense(units=10, activation='softmax')              \n",
        "])\n",
        "\n",
        "model_1.summary()"
      ],
      "metadata": {
        "colab": {
          "base_uri": "https://localhost:8080/"
        },
        "id": "GZTZWb4hMSkX",
        "outputId": "feb23de3-a977-4c05-86c0-e6c6eb820eb5"
      },
      "execution_count": 8,
      "outputs": [
        {
          "output_type": "stream",
          "name": "stdout",
          "text": [
            "Model: \"sequential\"\n",
            "_________________________________________________________________\n",
            " Layer (type)                Output Shape              Param #   \n",
            "=================================================================\n",
            " flatten (Flatten)           (None, 784)               0         \n",
            "                                                                 \n",
            " dense (Dense)               (None, 128)               100480    \n",
            "                                                                 \n",
            " dense_1 (Dense)             (None, 10)                1290      \n",
            "                                                                 \n",
            "=================================================================\n",
            "Total params: 101,770\n",
            "Trainable params: 101,770\n",
            "Non-trainable params: 0\n",
            "_________________________________________________________________\n"
          ]
        }
      ]
    },
    {
      "cell_type": "code",
      "source": [
        "## layer 2: 28*28*128 + 128\n",
        "## layers 3: 128*10 + 10"
      ],
      "metadata": {
        "colab": {
          "base_uri": "https://localhost:8080/"
        },
        "id": "yszjwrIdNVaK",
        "outputId": "41933bcb-66af-427a-9a64-9bb767094c9c"
      },
      "execution_count": 10,
      "outputs": [
        {
          "output_type": "execute_result",
          "data": {
            "text/plain": [
              "100480"
            ]
          },
          "metadata": {},
          "execution_count": 10
        }
      ]
    },
    {
      "cell_type": "code",
      "source": [
        "\n"
      ],
      "metadata": {
        "id": "8CY-elJtNaSZ"
      },
      "execution_count": 17,
      "outputs": []
    },
    {
      "cell_type": "code",
      "source": [
        "%%time\n",
        "model_1.compile(optimizer=tf.optimizers.Adam(),\n",
        "                loss=tf.losses.sparse_categorical_crossentropy,\n",
        "                metrics = ['accuracy'])\n",
        "history_1 = model_1.fit(train_images, train_labels, epochs=10,\n",
        "            validation_data=(test_images, test_labels))"
      ],
      "metadata": {
        "colab": {
          "base_uri": "https://localhost:8080/"
        },
        "id": "ZcUWpxSkNf_J",
        "outputId": "7282f596-4e8d-4432-b45d-25c773d19be8"
      },
      "execution_count": 15,
      "outputs": [
        {
          "output_type": "stream",
          "name": "stdout",
          "text": [
            "Epoch 1/10\n",
            "1875/1875 [==============================] - 5s 3ms/step - loss: 0.3995 - accuracy: 0.8690 - val_loss: 0.6457 - val_accuracy: 0.8319\n",
            "Epoch 2/10\n",
            "1875/1875 [==============================] - 6s 3ms/step - loss: 0.3869 - accuracy: 0.8717 - val_loss: 0.6252 - val_accuracy: 0.8434\n",
            "Epoch 3/10\n",
            "1875/1875 [==============================] - 6s 3ms/step - loss: 0.4135 - accuracy: 0.8662 - val_loss: 0.6081 - val_accuracy: 0.8356\n",
            "Epoch 4/10\n",
            "1875/1875 [==============================] - 6s 3ms/step - loss: 0.4044 - accuracy: 0.8668 - val_loss: 0.6293 - val_accuracy: 0.8464\n",
            "Epoch 5/10\n",
            "1875/1875 [==============================] - 5s 3ms/step - loss: 0.3990 - accuracy: 0.8677 - val_loss: 0.6377 - val_accuracy: 0.8347\n",
            "Epoch 6/10\n",
            "1875/1875 [==============================] - 5s 3ms/step - loss: 0.3875 - accuracy: 0.8710 - val_loss: 0.6490 - val_accuracy: 0.8401\n",
            "Epoch 7/10\n",
            "1875/1875 [==============================] - 5s 3ms/step - loss: 0.4072 - accuracy: 0.8679 - val_loss: 0.7332 - val_accuracy: 0.8195\n",
            "Epoch 8/10\n",
            "1875/1875 [==============================] - 5s 3ms/step - loss: 0.3927 - accuracy: 0.8711 - val_loss: 0.6202 - val_accuracy: 0.8386\n",
            "Epoch 9/10\n",
            "1875/1875 [==============================] - 5s 3ms/step - loss: 0.3948 - accuracy: 0.8692 - val_loss: 0.7597 - val_accuracy: 0.8325\n",
            "Epoch 10/10\n",
            "1875/1875 [==============================] - 5s 3ms/step - loss: 0.4069 - accuracy: 0.8673 - val_loss: 0.7754 - val_accuracy: 0.8182\n",
            "CPU times: user 57 s, sys: 4.95 s, total: 1min 1s\n",
            "Wall time: 1min 22s\n"
          ]
        }
      ]
    },
    {
      "cell_type": "code",
      "source": [
        "pd.DataFrame(history_1.history).plot()"
      ],
      "metadata": {
        "colab": {
          "base_uri": "https://localhost:8080/",
          "height": 283
        },
        "id": "wkZLFkj7POso",
        "outputId": "0d97847e-b28c-4dd3-9aa2-c324d67ae99c"
      },
      "execution_count": 17,
      "outputs": [
        {
          "output_type": "execute_result",
          "data": {
            "text/plain": [
              "<matplotlib.axes._subplots.AxesSubplot at 0x7f42ddf91fd0>"
            ]
          },
          "metadata": {},
          "execution_count": 17
        },
        {
          "output_type": "display_data",
          "data": {
            "text/plain": [
              "<Figure size 432x288 with 1 Axes>"
            ],
            "image/png": "[encoded data removed]"
          },
          "metadata": {
            "needs_background": "light"
          }
        }
      ]
    },
    {
      "cell_type": "code",
      "source": [
        "## model_2: data norm\n",
        "\n",
        "\n",
        "model_2 = keras.Sequential([\n",
        "  keras.layers.Flatten(input_shape=(28,28)),\n",
        "  keras.layers.Dense(units=128, activation='relu'),\n",
        "  keras.layers.Dense(units=10, activation='softmax')              \n",
        "])\n",
        "\n",
        "model_2.summary()"
      ],
      "metadata": {
        "colab": {
          "base_uri": "https://localhost:8080/"
        },
        "id": "ONrmAk34Q4bh",
        "outputId": "e8d25299-5a50-42f8-caa9-aa6ff64aa11f"
      },
      "execution_count": 18,
      "outputs": [
        {
          "output_type": "stream",
          "name": "stdout",
          "text": [
            "Model: \"sequential_1\"\n",
            "_________________________________________________________________\n",
            " Layer (type)                Output Shape              Param #   \n",
            "=================================================================\n",
            " flatten_1 (Flatten)         (None, 784)               0         \n",
            "                                                                 \n",
            " dense_2 (Dense)             (None, 128)               100480    \n",
            "                                                                 \n",
            " dense_3 (Dense)             (None, 10)                1290      \n",
            "                                                                 \n",
            "=================================================================\n",
            "Total params: 101,770\n",
            "Trainable params: 101,770\n",
            "Non-trainable params: 0\n",
            "_________________________________________________________________\n"
          ]
        }
      ]
    },
    {
      "cell_type": "code",
      "source": [
        "train_images = train_images/255.0\n",
        "test_images = test_images/255.0\n"
      ],
      "metadata": {
        "id": "ygEErcC8SEQy"
      },
      "execution_count": 4,
      "outputs": []
    },
    {
      "cell_type": "code",
      "source": [
        "%%time\n",
        "model_2.compile(optimizer=tf.optimizers.Adam(),\n",
        "                loss=tf.losses.sparse_categorical_crossentropy,\n",
        "                metrics = ['accuracy'])\n",
        "history_2 = model_2.fit(train_images, train_labels, epochs=10,\n",
        "            validation_data=(test_images, test_labels))"
      ],
      "metadata": {
        "colab": {
          "base_uri": "https://localhost:8080/"
        },
        "id": "fEfdPok1R-va",
        "outputId": "09cb3782-0b43-43dd-b23f-6295d9d2f4ac"
      },
      "execution_count": 20,
      "outputs": [
        {
          "output_type": "stream",
          "name": "stdout",
          "text": [
            "Epoch 1/10\n",
            "1875/1875 [==============================] - 5s 3ms/step - loss: 0.4959 - accuracy: 0.8238 - val_loss: 0.4243 - val_accuracy: 0.8471\n",
            "Epoch 2/10\n",
            "1875/1875 [==============================] - 5s 3ms/step - loss: 0.3731 - accuracy: 0.8651 - val_loss: 0.3828 - val_accuracy: 0.8612\n",
            "Epoch 3/10\n",
            "1875/1875 [==============================] - 5s 3ms/step - loss: 0.3348 - accuracy: 0.8770 - val_loss: 0.3744 - val_accuracy: 0.8615\n",
            "Epoch 4/10\n",
            "1875/1875 [==============================] - 6s 3ms/step - loss: 0.3098 - accuracy: 0.8864 - val_loss: 0.3478 - val_accuracy: 0.8733\n",
            "Epoch 5/10\n",
            "1875/1875 [==============================] - 5s 3ms/step - loss: 0.2931 - accuracy: 0.8921 - val_loss: 0.3559 - val_accuracy: 0.8725\n",
            "Epoch 6/10\n",
            "1875/1875 [==============================] - 5s 3ms/step - loss: 0.2793 - accuracy: 0.8960 - val_loss: 0.3530 - val_accuracy: 0.8730\n",
            "Epoch 7/10\n",
            "1875/1875 [==============================] - 5s 3ms/step - loss: 0.2665 - accuracy: 0.9012 - val_loss: 0.3445 - val_accuracy: 0.8791\n",
            "Epoch 8/10\n",
            "1875/1875 [==============================] - 5s 3ms/step - loss: 0.2582 - accuracy: 0.9042 - val_loss: 0.3363 - val_accuracy: 0.8817\n",
            "Epoch 9/10\n",
            "1875/1875 [==============================] - 5s 3ms/step - loss: 0.2472 - accuracy: 0.9075 - val_loss: 0.3312 - val_accuracy: 0.8810\n",
            "Epoch 10/10\n",
            "1875/1875 [==============================] - 5s 3ms/step - loss: 0.2384 - accuracy: 0.9101 - val_loss: 0.3518 - val_accuracy: 0.8825\n",
            "CPU times: user 57.2 s, sys: 4.98 s, total: 1min 2s\n",
            "Wall time: 50.8 s\n"
          ]
        }
      ]
    },
    {
      "cell_type": "code",
      "source": [
        "pd.DataFrame(history_2.history).plot()"
      ],
      "metadata": {
        "colab": {
          "base_uri": "https://localhost:8080/",
          "height": 283
        },
        "id": "08DQMQrCSNw6",
        "outputId": "a476eae7-8a6f-43de-9670-6ea11783619a"
      },
      "execution_count": 21,
      "outputs": [
        {
          "output_type": "execute_result",
          "data": {
            "text/plain": [
              "<matplotlib.axes._subplots.AxesSubplot at 0x7f42ddda0390>"
            ]
          },
          "metadata": {},
          "execution_count": 21
        },
        {
          "output_type": "display_data",
          "data": {
            "text/plain": [
              "<Figure size 432x288 with 1 Axes>"
            ],
            "image/png": "[encoded data removed]"
          },
          "metadata": {
            "needs_background": "light"
          }
        }
      ]
    },
    {
      "cell_type": "code",
      "source": [
        "## model_2 better than model_1: train times, accuracy\n",
        "test_images[0].shape"
      ],
      "metadata": {
        "colab": {
          "base_uri": "https://localhost:8080/"
        },
        "id": "UaC5NJIRSdv7",
        "outputId": "10c71bd8-91a6-4cf3-9298-d3d597cdf4eb"
      },
      "execution_count": 31,
      "outputs": [
        {
          "output_type": "execute_result",
          "data": {
            "text/plain": [
              "(28, 28)"
            ]
          },
          "metadata": {},
          "execution_count": 31
        }
      ]
    },
    {
      "cell_type": "code",
      "source": [
        "import numpy as np\n",
        "print(test_labels[0])\n",
        "predicts = model_2.predict(test_images)"
      ],
      "metadata": {
        "colab": {
          "base_uri": "https://localhost:8080/"
        },
        "id": "e366lsiWSlUp",
        "outputId": "43abbb62-e573-4003-de9f-af9fc5885730"
      },
      "execution_count": 34,
      "outputs": [
        {
          "output_type": "stream",
          "name": "stdout",
          "text": [
            "9\n"
          ]
        }
      ]
    },
    {
      "cell_type": "code",
      "source": [
        "predicts[0]"
      ],
      "metadata": {
        "colab": {
          "base_uri": "https://localhost:8080/"
        },
        "id": "EY_ekpnISr55",
        "outputId": "e67ee3de-01c4-4ad0-8c2a-d66e7a38ee53"
      },
      "execution_count": 35,
      "outputs": [
        {
          "output_type": "execute_result",
          "data": {
            "text/plain": [
              "array([5.77076886e-10, 1.04522710e-11, 6.19841747e-11, 8.99608721e-11,\n",
              "       1.19310195e-11, 1.36204299e-05, 8.76985240e-09, 1.20411981e-02,\n",
              "       1.86531546e-09, 9.87945199e-01], dtype=float32)"
            ]
          },
          "metadata": {},
          "execution_count": 35
        }
      ]
    },
    {
      "cell_type": "code",
      "source": [
        "np.argmax(predicts[0])"
      ],
      "metadata": {
        "colab": {
          "base_uri": "https://localhost:8080/"
        },
        "id": "OAI8EpuJUt56",
        "outputId": "1b7faa29-9cdb-4602-d8da-7f4a0a7b4a34"
      },
      "execution_count": 36,
      "outputs": [
        {
          "output_type": "execute_result",
          "data": {
            "text/plain": [
              "9"
            ]
          },
          "metadata": {},
          "execution_count": 36
        }
      ]
    },
    {
      "cell_type": "code",
      "source": [
        "### auto stop train to avoid over-fit\n",
        "class AutoStopCallback(tf.keras.callbacks.Callback):\n",
        "  def on_epoch_end(self, epoch, logs={}):\n",
        "    if logs.get('loss') <0.4:\n",
        "      print(\"Loss is lower than 0.4, so stop training\")\n",
        "      self.model.stop_training = True\n",
        "callback_2 = AutoStopCallback()\n",
        "history_2 = model_2.fit(train_images, train_labels, epochs=10,\n",
        "            validation_data=(test_images, test_labels),\n",
        "            callbacks=[callback_2])"
      ],
      "metadata": {
        "colab": {
          "base_uri": "https://localhost:8080/"
        },
        "id": "0yaYlvPPUxQJ",
        "outputId": "6d0dbc44-d04d-47e3-d38c-8fc529e2aad5"
      },
      "execution_count": 37,
      "outputs": [
        {
          "output_type": "stream",
          "name": "stdout",
          "text": [
            "Epoch 1/10\n",
            "1874/1875 [============================>.] - ETA: 0s - loss: 0.2300 - accuracy: 0.9143Loss is lower than 0.4, so stop training\n",
            "1875/1875 [==============================] - 5s 3ms/step - loss: 0.2299 - accuracy: 0.9143 - val_loss: 0.3493 - val_accuracy: 0.8831\n"
          ]
        }
      ]
    },
    {
      "cell_type": "code",
      "source": [
        "## model_3 add more units\n",
        "\n",
        "\n",
        "model_3 = keras.Sequential([\n",
        "  keras.layers.Flatten(input_shape=(28,28)),\n",
        "  keras.layers.Dense(units=512, activation='relu'),\n",
        "  keras.layers.Dense(units=10, activation='softmax')              \n",
        "])\n",
        "\n",
        "model_3.summary()"
      ],
      "metadata": {
        "colab": {
          "base_uri": "https://localhost:8080/"
        },
        "id": "ZObo_-0WWORC",
        "outputId": "4062029d-6405-49c6-ad7e-034152a7f4b9"
      },
      "execution_count": 38,
      "outputs": [
        {
          "output_type": "stream",
          "name": "stdout",
          "text": [
            "Model: \"sequential_2\"\n",
            "_________________________________________________________________\n",
            " Layer (type)                Output Shape              Param #   \n",
            "=================================================================\n",
            " flatten_2 (Flatten)         (None, 784)               0         \n",
            "                                                                 \n",
            " dense_4 (Dense)             (None, 512)               401920    \n",
            "                                                                 \n",
            " dense_5 (Dense)             (None, 10)                5130      \n",
            "                                                                 \n",
            "=================================================================\n",
            "Total params: 407,050\n",
            "Trainable params: 407,050\n",
            "Non-trainable params: 0\n",
            "_________________________________________________________________\n"
          ]
        }
      ]
    },
    {
      "cell_type": "code",
      "source": [
        "%%time\n",
        "model_3.compile(optimizer=tf.optimizers.Adam(),\n",
        "                loss=tf.losses.sparse_categorical_crossentropy,\n",
        "                metrics = ['accuracy'])\n",
        "history_3 = model_3.fit(train_images, train_labels, epochs=10,\n",
        "            validation_data=(test_images, test_labels),verbose= 2)"
      ],
      "metadata": {
        "colab": {
          "base_uri": "https://localhost:8080/"
        },
        "id": "FwRqwIw3WiiL",
        "outputId": "b17f5ad2-9f0b-4f93-8111-cbfada587fe8"
      },
      "execution_count": 41,
      "outputs": [
        {
          "output_type": "stream",
          "name": "stdout",
          "text": [
            "Epoch 1/10\n",
            "1875/1875 - 4s - loss: 0.3257 - accuracy: 0.8806 - val_loss: 0.3630 - val_accuracy: 0.8664 - 4s/epoch - 2ms/step\n",
            "Epoch 2/10\n",
            "1875/1875 - 4s - loss: 0.2959 - accuracy: 0.8918 - val_loss: 0.3400 - val_accuracy: 0.8756 - 4s/epoch - 2ms/step\n",
            "Epoch 3/10\n",
            "1875/1875 - 4s - loss: 0.2798 - accuracy: 0.8967 - val_loss: 0.3422 - val_accuracy: 0.8779 - 4s/epoch - 2ms/step\n",
            "Epoch 4/10\n",
            "1875/1875 - 5s - loss: 0.2660 - accuracy: 0.9024 - val_loss: 0.3596 - val_accuracy: 0.8735 - 5s/epoch - 3ms/step\n",
            "Epoch 5/10\n",
            "1875/1875 - 4s - loss: 0.2530 - accuracy: 0.9061 - val_loss: 0.3453 - val_accuracy: 0.8829 - 4s/epoch - 2ms/step\n",
            "Epoch 6/10\n",
            "1875/1875 - 4s - loss: 0.2418 - accuracy: 0.9096 - val_loss: 0.3493 - val_accuracy: 0.8786 - 4s/epoch - 2ms/step\n",
            "Epoch 7/10\n",
            "1875/1875 - 5s - loss: 0.2327 - accuracy: 0.9127 - val_loss: 0.3345 - val_accuracy: 0.8872 - 5s/epoch - 2ms/step\n",
            "Epoch 8/10\n",
            "1875/1875 - 4s - loss: 0.2214 - accuracy: 0.9165 - val_loss: 0.3278 - val_accuracy: 0.8888 - 4s/epoch - 2ms/step\n",
            "Epoch 9/10\n",
            "1875/1875 - 4s - loss: 0.2139 - accuracy: 0.9191 - val_loss: 0.3539 - val_accuracy: 0.8837 - 4s/epoch - 2ms/step\n",
            "Epoch 10/10\n",
            "1875/1875 - 4s - loss: 0.2066 - accuracy: 0.9227 - val_loss: 0.3265 - val_accuracy: 0.8903 - 4s/epoch - 2ms/step\n",
            "CPU times: user 49.6 s, sys: 3.68 s, total: 53.3 s\n",
            "Wall time: 1min 22s\n"
          ]
        }
      ]
    },
    {
      "cell_type": "code",
      "source": [
        "pd.DataFrame(history_3.history).plot()"
      ],
      "metadata": {
        "colab": {
          "base_uri": "https://localhost:8080/",
          "height": 283
        },
        "id": "nKR2eo9SWzw6",
        "outputId": "42c21f62-3c24-44dd-ba34-e55b7f0b55a1"
      },
      "execution_count": 42,
      "outputs": [
        {
          "output_type": "execute_result",
          "data": {
            "text/plain": [
              "<matplotlib.axes._subplots.AxesSubplot at 0x7f42dd8a1e10>"
            ]
          },
          "metadata": {},
          "execution_count": 42
        },
        {
          "output_type": "display_data",
          "data": {
            "text/plain": [
              "<Figure size 432x288 with 1 Axes>"
            ],
            "image/png": "[encoded data removed]"
          },
          "metadata": {
            "needs_background": "light"
          }
        }
      ]
    },
    {
      "cell_type": "code",
      "source": [
        "## add more layers\n",
        "\n",
        "\n",
        "model_4 = keras.Sequential([\n",
        "  keras.layers.Flatten(input_shape=(28,28)),\n",
        "  keras.layers.Dense(units=512, activation='relu'),\n",
        "  keras.layers.Dense(units=128, activation='relu'),\n",
        "  keras.layers.Dense(units=10, activation='softmax')              \n",
        "])\n",
        "\n",
        "model_4.summary()"
      ],
      "metadata": {
        "colab": {
          "base_uri": "https://localhost:8080/"
        },
        "id": "LBBlLge9W7Zr",
        "outputId": "d48574c5-1a01-48ea-d296-87c386abd0e6"
      },
      "execution_count": 43,
      "outputs": [
        {
          "output_type": "stream",
          "name": "stdout",
          "text": [
            "Model: \"sequential_3\"\n",
            "_________________________________________________________________\n",
            " Layer (type)                Output Shape              Param #   \n",
            "=================================================================\n",
            " flatten_3 (Flatten)         (None, 784)               0         \n",
            "                                                                 \n",
            " dense_6 (Dense)             (None, 512)               401920    \n",
            "                                                                 \n",
            " dense_7 (Dense)             (None, 128)               65664     \n",
            "                                                                 \n",
            " dense_8 (Dense)             (None, 10)                1290      \n",
            "                                                                 \n",
            "=================================================================\n",
            "Total params: 468,874\n",
            "Trainable params: 468,874\n",
            "Non-trainable params: 0\n",
            "_________________________________________________________________\n"
          ]
        }
      ]
    },
    {
      "cell_type": "code",
      "source": [
        "%%time\n",
        "model_4.compile(optimizer=tf.optimizers.Adam(),\n",
        "                loss=tf.losses.sparse_categorical_crossentropy,\n",
        "                metrics = ['accuracy'])\n",
        "history_4 = model_4.fit(train_images, train_labels, epochs=10,\n",
        "            validation_data=(test_images, test_labels),verbose=2)"
      ],
      "metadata": {
        "colab": {
          "base_uri": "https://localhost:8080/"
        },
        "id": "cAzvooijXOxL",
        "outputId": "a6350d1a-3549-495b-9006-94b59f9e20fc"
      },
      "execution_count": 46,
      "outputs": [
        {
          "output_type": "stream",
          "name": "stdout",
          "text": [
            "Epoch 1/10\n",
            "1875/1875 - 5s - loss: 0.2150 - accuracy: 0.9170 - val_loss: 0.3377 - val_accuracy: 0.8892 - 5s/epoch - 3ms/step\n",
            "Epoch 2/10\n",
            "1875/1875 - 4s - loss: 0.2044 - accuracy: 0.9220 - val_loss: 0.3790 - val_accuracy: 0.8841 - 4s/epoch - 2ms/step\n",
            "Epoch 3/10\n",
            "1875/1875 - 4s - loss: 0.1998 - accuracy: 0.9244 - val_loss: 0.3570 - val_accuracy: 0.8855 - 4s/epoch - 2ms/step\n",
            "Epoch 4/10\n",
            "1875/1875 - 4s - loss: 0.1917 - accuracy: 0.9276 - val_loss: 0.3676 - val_accuracy: 0.8909 - 4s/epoch - 2ms/step\n",
            "Epoch 5/10\n",
            "1875/1875 - 4s - loss: 0.1832 - accuracy: 0.9292 - val_loss: 0.3470 - val_accuracy: 0.8939 - 4s/epoch - 2ms/step\n",
            "Epoch 6/10\n",
            "1875/1875 - 4s - loss: 0.1805 - accuracy: 0.9301 - val_loss: 0.3777 - val_accuracy: 0.8866 - 4s/epoch - 2ms/step\n",
            "Epoch 7/10\n",
            "1875/1875 - 4s - loss: 0.1738 - accuracy: 0.9333 - val_loss: 0.4029 - val_accuracy: 0.8862 - 4s/epoch - 2ms/step\n",
            "Epoch 8/10\n",
            "1875/1875 - 4s - loss: 0.1700 - accuracy: 0.9356 - val_loss: 0.3640 - val_accuracy: 0.8945 - 4s/epoch - 2ms/step\n",
            "Epoch 9/10\n",
            "1875/1875 - 4s - loss: 0.1634 - accuracy: 0.9376 - val_loss: 0.3915 - val_accuracy: 0.8938 - 4s/epoch - 2ms/step\n",
            "Epoch 10/10\n",
            "1875/1875 - 4s - loss: 0.1586 - accuracy: 0.9385 - val_loss: 0.4129 - val_accuracy: 0.8882 - 4s/epoch - 2ms/step\n",
            "CPU times: user 52.1 s, sys: 3.71 s, total: 55.8 s\n",
            "Wall time: 1min 22s\n"
          ]
        }
      ]
    },
    {
      "cell_type": "code",
      "source": [
        "pd.DataFrame(history_4.history).plot()"
      ],
      "metadata": {
        "colab": {
          "base_uri": "https://localhost:8080/",
          "height": 283
        },
        "id": "6vA-cbPyXT1U",
        "outputId": "f46c8953-b8c2-44a1-b1a6-3c9522d205e6"
      },
      "execution_count": 47,
      "outputs": [
        {
          "output_type": "execute_result",
          "data": {
            "text/plain": [
              "<matplotlib.axes._subplots.AxesSubplot at 0x7f42dc2b3110>"
            ]
          },
          "metadata": {},
          "execution_count": 47
        },
        {
          "output_type": "display_data",
          "data": {
            "text/plain": [
              "<Figure size 432x288 with 1 Axes>"
            ],
            "image/png": "[encoded data removed]"
          },
          "metadata": {
            "needs_background": "light"
          }
        }
      ]
    },
    {
      "cell_type": "code",
      "source": [
        ""
      ],
      "metadata": {
        "id": "qkSBT_M3Xt-k"
      },
      "execution_count": null,
      "outputs": []
    },
    {
      "cell_type": "markdown",
      "source": [
        "## 使用卷积神经网络\n"
      ],
      "metadata": {
        "id": "mb5ML1kAY3uL"
      }
    },
    {
      "cell_type": "code",
      "source": [
        "model_5 = keras.Sequential([\n",
        "  #keras.layers.Rescaling(1./255, input_shape=(28,28, 1)),                          \n",
        "  keras.layers.Conv2D(64,(3,3),padding='same',input_shape=(28,28, 1), activation='relu'),\n",
        "  keras.layers.MaxPooling2D(),\n",
        "  keras.layers.Conv2D(128,(3,3),padding='same',activation='relu'),\n",
        "  keras.layers.MaxPooling2D(),\n",
        "  keras.layers.Flatten(),\n",
        "  keras.layers.Dense(128, activation='relu'),\n",
        "  keras.layers.Dense(10, activation='softmax')\n",
        "])\n",
        "\n",
        "model_5.summary()"
      ],
      "metadata": {
        "colab": {
          "base_uri": "https://localhost:8080/",
          "height": 249
        },
        "id": "PprCBDIfY8lz",
        "outputId": "c1baab41-d6cb-4cd6-816b-e89b397746da"
      },
      "execution_count": 1,
      "outputs": [
        {
          "output_type": "error",
          "ename": "NameError",
          "evalue": "ignored",
          "traceback": [
            "\u001b[0;31m---------------------------------------------------------------------------\u001b[0m",
            "\u001b[0;31mNameError\u001b[0m                                 Traceback (most recent call last)",
            "\u001b[0;32m<ipython-input-1-18dd6161b9bc>\u001b[0m in \u001b[0;36m<module>\u001b[0;34m()\u001b[0m\n\u001b[0;32m----> 1\u001b[0;31m model_5 = keras.Sequential([\n\u001b[0m\u001b[1;32m      2\u001b[0m   \u001b[0;31m#keras.layers.Rescaling(1./255, input_shape=(28,28, 1)),\u001b[0m\u001b[0;34m\u001b[0m\u001b[0;34m\u001b[0m\u001b[0;34m\u001b[0m\u001b[0m\n\u001b[1;32m      3\u001b[0m   \u001b[0mkeras\u001b[0m\u001b[0;34m.\u001b[0m\u001b[0mlayers\u001b[0m\u001b[0;34m.\u001b[0m\u001b[0mConv2D\u001b[0m\u001b[0;34m(\u001b[0m\u001b[0;36m64\u001b[0m\u001b[0;34m,\u001b[0m\u001b[0;34m(\u001b[0m\u001b[0;36m3\u001b[0m\u001b[0;34m,\u001b[0m\u001b[0;36m3\u001b[0m\u001b[0;34m)\u001b[0m\u001b[0;34m,\u001b[0m\u001b[0mpadding\u001b[0m\u001b[0;34m=\u001b[0m\u001b[0;34m'same'\u001b[0m\u001b[0;34m,\u001b[0m\u001b[0minput_shape\u001b[0m\u001b[0;34m=\u001b[0m\u001b[0;34m(\u001b[0m\u001b[0;36m28\u001b[0m\u001b[0;34m,\u001b[0m\u001b[0;36m28\u001b[0m\u001b[0;34m,\u001b[0m \u001b[0;36m1\u001b[0m\u001b[0;34m)\u001b[0m\u001b[0;34m,\u001b[0m \u001b[0mactivation\u001b[0m\u001b[0;34m=\u001b[0m\u001b[0;34m'relu'\u001b[0m\u001b[0;34m)\u001b[0m\u001b[0;34m,\u001b[0m\u001b[0;34m\u001b[0m\u001b[0;34m\u001b[0m\u001b[0m\n\u001b[1;32m      4\u001b[0m   \u001b[0mkeras\u001b[0m\u001b[0;34m.\u001b[0m\u001b[0mlayers\u001b[0m\u001b[0;34m.\u001b[0m\u001b[0mMaxPooling2D\u001b[0m\u001b[0;34m(\u001b[0m\u001b[0;34m)\u001b[0m\u001b[0;34m,\u001b[0m\u001b[0;34m\u001b[0m\u001b[0;34m\u001b[0m\u001b[0m\n\u001b[1;32m      5\u001b[0m   \u001b[0mkeras\u001b[0m\u001b[0;34m.\u001b[0m\u001b[0mlayers\u001b[0m\u001b[0;34m.\u001b[0m\u001b[0mConv2D\u001b[0m\u001b[0;34m(\u001b[0m\u001b[0;36m128\u001b[0m\u001b[0;34m,\u001b[0m\u001b[0;34m(\u001b[0m\u001b[0;36m3\u001b[0m\u001b[0;34m,\u001b[0m\u001b[0;36m3\u001b[0m\u001b[0;34m)\u001b[0m\u001b[0;34m,\u001b[0m\u001b[0mpadding\u001b[0m\u001b[0;34m=\u001b[0m\u001b[0;34m'same'\u001b[0m\u001b[0;34m,\u001b[0m\u001b[0mactivation\u001b[0m\u001b[0;34m=\u001b[0m\u001b[0;34m'relu'\u001b[0m\u001b[0;34m)\u001b[0m\u001b[0;34m,\u001b[0m\u001b[0;34m\u001b[0m\u001b[0;34m\u001b[0m\u001b[0m\n",
            "\u001b[0;31mNameError\u001b[0m: name 'keras' is not defined"
          ]
        }
      ]
    },
    {
      "cell_type": "code",
      "source": [
        "%%time\n",
        "model_5.compile(optimizer=tf.optimizers.Adam(),\n",
        "                loss=tf.losses.sparse_categorical_crossentropy,\n",
        "                metrics = ['accuracy'])\n",
        "history_5 = model_5.fit(train_images, train_labels, epochs=10,\n",
        "            validation_data=(test_images, test_labels),verbose=2)"
      ],
      "metadata": {
        "colab": {
          "base_uri": "https://localhost:8080/"
        },
        "id": "rjYnHRqzap1z",
        "outputId": "37926132-44aa-4568-c5b2-b27d0c46c416"
      },
      "execution_count": 53,
      "outputs": [
        {
          "output_type": "stream",
          "name": "stdout",
          "text": [
            "Epoch 1/10\n",
            "1875/1875 - 16s - loss: 0.3775 - accuracy: 0.8635 - val_loss: 0.2958 - val_accuracy: 0.8915 - 16s/epoch - 8ms/step\n",
            "Epoch 2/10\n",
            "1875/1875 - 5s - loss: 0.2439 - accuracy: 0.9100 - val_loss: 0.2516 - val_accuracy: 0.9084 - 5s/epoch - 3ms/step\n",
            "Epoch 3/10\n",
            "1875/1875 - 6s - loss: 0.1989 - accuracy: 0.9267 - val_loss: 0.2250 - val_accuracy: 0.9173 - 6s/epoch - 3ms/step\n",
            "Epoch 4/10\n",
            "1875/1875 - 6s - loss: 0.1626 - accuracy: 0.9389 - val_loss: 0.2492 - val_accuracy: 0.9131 - 6s/epoch - 3ms/step\n",
            "Epoch 5/10\n",
            "1875/1875 - 6s - loss: 0.1319 - accuracy: 0.9512 - val_loss: 0.2329 - val_accuracy: 0.9219 - 6s/epoch - 3ms/step\n",
            "Epoch 6/10\n",
            "1875/1875 - 6s - loss: 0.1061 - accuracy: 0.9604 - val_loss: 0.2443 - val_accuracy: 0.9216 - 6s/epoch - 3ms/step\n",
            "Epoch 7/10\n",
            "1875/1875 - 5s - loss: 0.0869 - accuracy: 0.9674 - val_loss: 0.2811 - val_accuracy: 0.9135 - 5s/epoch - 3ms/step\n",
            "Epoch 8/10\n",
            "1875/1875 - 6s - loss: 0.0711 - accuracy: 0.9732 - val_loss: 0.2982 - val_accuracy: 0.9219 - 6s/epoch - 3ms/step\n",
            "Epoch 9/10\n",
            "1875/1875 - 5s - loss: 0.0572 - accuracy: 0.9781 - val_loss: 0.3175 - val_accuracy: 0.9225 - 5s/epoch - 3ms/step\n",
            "Epoch 10/10\n",
            "1875/1875 - 5s - loss: 0.0475 - accuracy: 0.9822 - val_loss: 0.3551 - val_accuracy: 0.9196 - 5s/epoch - 3ms/step\n",
            "CPU times: user 1min 3s, sys: 5.01 s, total: 1min 8s\n",
            "Wall time: 1min 22s\n"
          ]
        }
      ]
    },
    {
      "cell_type": "code",
      "source": [
        "pd.DataFrame(history_5.history).plot()"
      ],
      "metadata": {
        "colab": {
          "base_uri": "https://localhost:8080/",
          "height": 283
        },
        "id": "vwK4fTDDa5Y1",
        "outputId": "4b6f6816-4adf-4abf-f298-b4a492816364"
      },
      "execution_count": 54,
      "outputs": [
        {
          "output_type": "execute_result",
          "data": {
            "text/plain": [
              "<matplotlib.axes._subplots.AxesSubplot at 0x7f42c46e1390>"
            ]
          },
          "metadata": {},
          "execution_count": 54
        },
        {
          "output_type": "display_data",
          "data": {
            "text/plain": [
              "<Figure size 432x288 with 1 Axes>"
            ],
            "image/png": "[encoded data removed]"
          },
          "metadata": {
            "needs_background": "light"
          }
        }
      ]
    },
    {
      "cell_type": "markdown",
      "source": [
        "# 使用dropout"
      ],
      "metadata": {
        "id": "_QBt54Jo_EIW"
      }
    },
    {
      "cell_type": "code",
      "source": [
        "\n",
        "model_6 = keras.Sequential([\n",
        "  #keras.layers.Rescaling(1./255, input_shape=(28,28, 1)),                          \n",
        "  keras.layers.Conv2D(64,(3,3),padding='same',input_shape=(28,28, 1), activation='relu'),\n",
        "  keras.layers.MaxPooling2D(),\n",
        "  keras.layers.Dropout(0.5),\n",
        "  keras.layers.Conv2D(128,(3,3),padding='same',activation='relu'),\n",
        "  keras.layers.MaxPooling2D(),\n",
        "  keras.layers.Dropout(0.5),\n",
        "  keras.layers.Flatten(),\n",
        "  keras.layers.Dense(128, activation='relu'),\n",
        "  keras.layers.Dense(10, activation='softmax')\n",
        "])\n",
        "\n",
        "model_6.summary()"
      ],
      "metadata": {
        "colab": {
          "base_uri": "https://localhost:8080/"
        },
        "id": "nOcN0tXqa7_s",
        "outputId": "bfe17de8-80ce-4e0c-88b8-8035b093dcd6"
      },
      "execution_count": 5,
      "outputs": [
        {
          "output_type": "stream",
          "name": "stdout",
          "text": [
            "Model: \"sequential\"\n",
            "_________________________________________________________________\n",
            " Layer (type)                Output Shape              Param #   \n",
            "=================================================================\n",
            " conv2d (Conv2D)             (None, 28, 28, 64)        640       \n",
            "                                                                 \n",
            " max_pooling2d (MaxPooling2D  (None, 14, 14, 64)       0         \n",
            " )                                                               \n",
            "                                                                 \n",
            " dropout (Dropout)           (None, 14, 14, 64)        0         \n",
            "                                                                 \n",
            " conv2d_1 (Conv2D)           (None, 14, 14, 128)       73856     \n",
            "                                                                 \n",
            " max_pooling2d_1 (MaxPooling  (None, 7, 7, 128)        0         \n",
            " 2D)                                                             \n",
            "                                                                 \n",
            " dropout_1 (Dropout)         (None, 7, 7, 128)         0         \n",
            "                                                                 \n",
            " flatten (Flatten)           (None, 6272)              0         \n",
            "                                                                 \n",
            " dense (Dense)               (None, 128)               802944    \n",
            "                                                                 \n",
            " dense_1 (Dense)             (None, 10)                1290      \n",
            "                                                                 \n",
            "=================================================================\n",
            "Total params: 878,730\n",
            "Trainable params: 878,730\n",
            "Non-trainable params: 0\n",
            "_________________________________________________________________\n"
          ]
        }
      ]
    },
    {
      "cell_type": "code",
      "source": [
        "%%time\n",
        "model_6.compile(optimizer=tf.optimizers.Adam(),\n",
        "                loss=tf.losses.sparse_categorical_crossentropy,\n",
        "                metrics = ['accuracy'])\n",
        "history_6 = model_6.fit(train_images, train_labels, epochs=10,\n",
        "            validation_data=(test_images, test_labels),verbose=2)\n",
        "pd.DataFrame(history_6.history).plot()"
      ],
      "metadata": {
        "colab": {
          "base_uri": "https://localhost:8080/",
          "height": 669
        },
        "id": "ta-HKfa2-6e2",
        "outputId": "efff38f4-a801-46fd-d05d-eaa38fd19ba5"
      },
      "execution_count": 6,
      "outputs": [
        {
          "output_type": "stream",
          "name": "stdout",
          "text": [
            "Epoch 1/10\n",
            "1875/1875 - 18s - loss: 0.4608 - accuracy: 0.8310 - val_loss: 0.3403 - val_accuracy: 0.8812 - 18s/epoch - 10ms/step\n",
            "Epoch 2/10\n",
            "1875/1875 - 6s - loss: 0.3195 - accuracy: 0.8821 - val_loss: 0.2882 - val_accuracy: 0.8961 - 6s/epoch - 3ms/step\n",
            "Epoch 3/10\n",
            "1875/1875 - 6s - loss: 0.2816 - accuracy: 0.8947 - val_loss: 0.2662 - val_accuracy: 0.9036 - 6s/epoch - 3ms/step\n",
            "Epoch 4/10\n",
            "1875/1875 - 6s - loss: 0.2600 - accuracy: 0.9035 - val_loss: 0.2619 - val_accuracy: 0.9027 - 6s/epoch - 3ms/step\n",
            "Epoch 5/10\n",
            "1875/1875 - 6s - loss: 0.2445 - accuracy: 0.9089 - val_loss: 0.2520 - val_accuracy: 0.9073 - 6s/epoch - 3ms/step\n",
            "Epoch 6/10\n",
            "1875/1875 - 6s - loss: 0.2327 - accuracy: 0.9122 - val_loss: 0.2362 - val_accuracy: 0.9148 - 6s/epoch - 3ms/step\n",
            "Epoch 7/10\n",
            "1875/1875 - 6s - loss: 0.2223 - accuracy: 0.9160 - val_loss: 0.2266 - val_accuracy: 0.9163 - 6s/epoch - 3ms/step\n",
            "Epoch 8/10\n",
            "1875/1875 - 6s - loss: 0.2120 - accuracy: 0.9195 - val_loss: 0.2302 - val_accuracy: 0.9154 - 6s/epoch - 3ms/step\n",
            "Epoch 9/10\n",
            "1875/1875 - 6s - loss: 0.2045 - accuracy: 0.9227 - val_loss: 0.2306 - val_accuracy: 0.9136 - 6s/epoch - 3ms/step\n",
            "Epoch 10/10\n",
            "1875/1875 - 6s - loss: 0.1981 - accuracy: 0.9242 - val_loss: 0.2258 - val_accuracy: 0.9188 - 6s/epoch - 3ms/step\n",
            "CPU times: user 1min 6s, sys: 4.51 s, total: 1min 11s\n",
            "Wall time: 1min 9s\n"
          ]
        },
        {
          "output_type": "display_data",
          "data": {
            "text/plain": [
              "<Figure size 432x288 with 1 Axes>"
            ],
            "image/png": "[encoded data removed]"
          },
          "metadata": {
            "needs_background": "light"
          }
        }
      ]
    },
    {
      "cell_type": "markdown",
      "source": [
        "## 使用data augmentation："
      ],
      "metadata": {
        "id": "zwV34pXSHXvQ"
      }
    },
    {
      "cell_type": "code",
      "source": [
        "%%time\n",
        "\n",
        "model_7 = keras.Sequential([\n",
        "  #layers.Resizing(IMG_SIZE, IMG_SIZE),\n",
        "  keras.layers.Rescaling(1./255, input_shape=(28,28, 1)), \n",
        "  keras.layers.RandomFlip(\"horizontal_and_vertical\"),\n",
        "  keras.layers.RandomRotation(0.2),\n",
        "  keras.layers.Conv2D(64,(3,3),padding='same', activation='relu'),\n",
        "  keras.layers.MaxPooling2D(),\n",
        "  keras.layers.Dropout(0.5),\n",
        "  keras.layers.Conv2D(128,(3,3),padding='same',activation='relu'),\n",
        "  keras.layers.MaxPooling2D(),\n",
        "  keras.layers.Dropout(0.5),\n",
        "  keras.layers.Flatten(),\n",
        "  keras.layers.Dense(128, activation='relu'),\n",
        "  keras.layers.Dense(10, activation='softmax')\n",
        "])\n",
        "\n",
        "model_7.summary()"
      ],
      "metadata": {
        "colab": {
          "base_uri": "https://localhost:8080/"
        },
        "id": "yj3AXC9U_WqX",
        "outputId": "b935d901-a8b3-4563-e355-b8a0297ed750"
      },
      "execution_count": 9,
      "outputs": [
        {
          "output_type": "stream",
          "name": "stdout",
          "text": [
            "Model: \"sequential_1\"\n",
            "_________________________________________________________________\n",
            " Layer (type)                Output Shape              Param #   \n",
            "=================================================================\n",
            " rescaling (Rescaling)       (None, 28, 28, 1)         0         \n",
            "                                                                 \n",
            " random_flip (RandomFlip)    (None, 28, 28, 1)         0         \n",
            "                                                                 \n",
            " random_rotation (RandomRota  (None, 28, 28, 1)        0         \n",
            " tion)                                                           \n",
            "                                                                 \n",
            " conv2d_2 (Conv2D)           (None, 28, 28, 64)        640       \n",
            "                                                                 \n",
            " max_pooling2d_2 (MaxPooling  (None, 14, 14, 64)       0         \n",
            " 2D)                                                             \n",
            "                                                                 \n",
            " dropout_2 (Dropout)         (None, 14, 14, 64)        0         \n",
            "                                                                 \n",
            " conv2d_3 (Conv2D)           (None, 14, 14, 128)       73856     \n",
            "                                                                 \n",
            " max_pooling2d_3 (MaxPooling  (None, 7, 7, 128)        0         \n",
            " 2D)                                                             \n",
            "                                                                 \n",
            " dropout_3 (Dropout)         (None, 7, 7, 128)         0         \n",
            "                                                                 \n",
            " flatten_1 (Flatten)         (None, 6272)              0         \n",
            "                                                                 \n",
            " dense_2 (Dense)             (None, 128)               802944    \n",
            "                                                                 \n",
            " dense_3 (Dense)             (None, 10)                1290      \n",
            "                                                                 \n",
            "=================================================================\n",
            "Total params: 878,730\n",
            "Trainable params: 878,730\n",
            "Non-trainable params: 0\n",
            "_________________________________________________________________\n",
            "CPU times: user 90.5 ms, sys: 6.91 ms, total: 97.4 ms\n",
            "Wall time: 99.7 ms\n"
          ]
        }
      ]
    },
    {
      "cell_type": "code",
      "source": [
        "%%time\n",
        "model_7.compile(optimizer=tf.optimizers.Adam(),\n",
        "                loss=tf.losses.sparse_categorical_crossentropy,\n",
        "                metrics = ['accuracy'])\n",
        "history_7 = model_7.fit(train_images, train_labels, epochs=10,\n",
        "            validation_data=(test_images, test_labels),verbose=2)\n",
        "pd.DataFrame(history_7.history).plot()"
      ],
      "metadata": {
        "colab": {
          "base_uri": "https://localhost:8080/",
          "height": 669
        },
        "id": "ap9aQBONIN6K",
        "outputId": "a4747736-eddb-4f48-d4ea-d623bd0dcd0e"
      },
      "execution_count": 10,
      "outputs": [
        {
          "output_type": "stream",
          "name": "stdout",
          "text": [
            "Epoch 1/10\n",
            "1875/1875 - 8s - loss: 0.9908 - accuracy: 0.6341 - val_loss: 0.6288 - val_accuracy: 0.7678 - 8s/epoch - 4ms/step\n",
            "Epoch 2/10\n",
            "1875/1875 - 7s - loss: 0.7057 - accuracy: 0.7387 - val_loss: 0.5475 - val_accuracy: 0.7975 - 7s/epoch - 4ms/step\n",
            "Epoch 3/10\n",
            "1875/1875 - 7s - loss: 0.6408 - accuracy: 0.7637 - val_loss: 0.5381 - val_accuracy: 0.7990 - 7s/epoch - 4ms/step\n",
            "Epoch 4/10\n",
            "1875/1875 - 7s - loss: 0.6045 - accuracy: 0.7786 - val_loss: 0.5110 - val_accuracy: 0.8256 - 7s/epoch - 4ms/step\n",
            "Epoch 5/10\n",
            "1875/1875 - 7s - loss: 0.5780 - accuracy: 0.7879 - val_loss: 0.4788 - val_accuracy: 0.8323 - 7s/epoch - 4ms/step\n",
            "Epoch 6/10\n",
            "1875/1875 - 7s - loss: 0.5573 - accuracy: 0.7957 - val_loss: 0.4839 - val_accuracy: 0.8302 - 7s/epoch - 4ms/step\n",
            "Epoch 7/10\n",
            "1875/1875 - 7s - loss: 0.5423 - accuracy: 0.8008 - val_loss: 0.4871 - val_accuracy: 0.8227 - 7s/epoch - 4ms/step\n",
            "Epoch 8/10\n",
            "1875/1875 - 7s - loss: 0.5285 - accuracy: 0.8071 - val_loss: 0.4548 - val_accuracy: 0.8357 - 7s/epoch - 4ms/step\n",
            "Epoch 9/10\n",
            "1875/1875 - 7s - loss: 0.5203 - accuracy: 0.8093 - val_loss: 0.4496 - val_accuracy: 0.8426 - 7s/epoch - 4ms/step\n",
            "Epoch 10/10\n",
            "1875/1875 - 7s - loss: 0.5112 - accuracy: 0.8145 - val_loss: 0.4547 - val_accuracy: 0.8365 - 7s/epoch - 4ms/step\n",
            "CPU times: user 1min 23s, sys: 5.07 s, total: 1min 28s\n",
            "Wall time: 1min 10s\n"
          ]
        },
        {
          "output_type": "display_data",
          "data": {
            "text/plain": [
              "<Figure size 432x288 with 1 Axes>"
            ],
            "image/png": "[encoded data removed]"
          },
          "metadata": {
            "needs_background": "light"
          }
        }
      ]
    },
    {
      "cell_type": "code",
      "source": [
        ""
      ],
      "metadata": {
        "id": "sfVvITAFIVio"
      },
      "execution_count": null,
      "outputs": []
    }
  ]
}